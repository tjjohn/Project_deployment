{
 "cells": [
  {
   "cell_type": "code",
   "execution_count": 4,
   "metadata": {},
   "outputs": [],
   "source": [
    "import numpy as np\n",
    "import pandas as pd\n",
    "import matplotlib.pyplot as plt\n",
    "import seaborn as sns"
   ]
  },
  {
   "cell_type": "code",
   "execution_count": 5,
   "metadata": {},
   "outputs": [],
   "source": [
    "df = pd.read_csv('Womens Clothing E-Commerce Reviews.csv')"
   ]
  },
  {
   "cell_type": "code",
   "execution_count": 6,
   "metadata": {},
   "outputs": [
    {
     "data": {
      "text/html": [
       "<div>\n",
       "<style scoped>\n",
       "    .dataframe tbody tr th:only-of-type {\n",
       "        vertical-align: middle;\n",
       "    }\n",
       "\n",
       "    .dataframe tbody tr th {\n",
       "        vertical-align: top;\n",
       "    }\n",
       "\n",
       "    .dataframe thead th {\n",
       "        text-align: right;\n",
       "    }\n",
       "</style>\n",
       "<table border=\"1\" class=\"dataframe\">\n",
       "  <thead>\n",
       "    <tr style=\"text-align: right;\">\n",
       "      <th></th>\n",
       "      <th>Unnamed: 0</th>\n",
       "      <th>Clothing ID</th>\n",
       "      <th>Age</th>\n",
       "      <th>Title</th>\n",
       "      <th>Review Text</th>\n",
       "      <th>Rating</th>\n",
       "      <th>Recommended IND</th>\n",
       "      <th>Positive Feedback Count</th>\n",
       "      <th>Division Name</th>\n",
       "      <th>Department Name</th>\n",
       "      <th>Class Name</th>\n",
       "    </tr>\n",
       "  </thead>\n",
       "  <tbody>\n",
       "    <tr>\n",
       "      <th>0</th>\n",
       "      <td>0</td>\n",
       "      <td>767</td>\n",
       "      <td>33</td>\n",
       "      <td>NaN</td>\n",
       "      <td>Absolutely wonderful - silky and sexy and comf...</td>\n",
       "      <td>4</td>\n",
       "      <td>1</td>\n",
       "      <td>0</td>\n",
       "      <td>Initmates</td>\n",
       "      <td>Intimate</td>\n",
       "      <td>Intimates</td>\n",
       "    </tr>\n",
       "    <tr>\n",
       "      <th>1</th>\n",
       "      <td>1</td>\n",
       "      <td>1080</td>\n",
       "      <td>34</td>\n",
       "      <td>NaN</td>\n",
       "      <td>Love this dress!  it's sooo pretty.  i happene...</td>\n",
       "      <td>5</td>\n",
       "      <td>1</td>\n",
       "      <td>4</td>\n",
       "      <td>General</td>\n",
       "      <td>Dresses</td>\n",
       "      <td>Dresses</td>\n",
       "    </tr>\n",
       "    <tr>\n",
       "      <th>2</th>\n",
       "      <td>2</td>\n",
       "      <td>1077</td>\n",
       "      <td>60</td>\n",
       "      <td>Some major design flaws</td>\n",
       "      <td>I had such high hopes for this dress and reall...</td>\n",
       "      <td>3</td>\n",
       "      <td>0</td>\n",
       "      <td>0</td>\n",
       "      <td>General</td>\n",
       "      <td>Dresses</td>\n",
       "      <td>Dresses</td>\n",
       "    </tr>\n",
       "    <tr>\n",
       "      <th>3</th>\n",
       "      <td>3</td>\n",
       "      <td>1049</td>\n",
       "      <td>50</td>\n",
       "      <td>My favorite buy!</td>\n",
       "      <td>I love, love, love this jumpsuit. it's fun, fl...</td>\n",
       "      <td>5</td>\n",
       "      <td>1</td>\n",
       "      <td>0</td>\n",
       "      <td>General Petite</td>\n",
       "      <td>Bottoms</td>\n",
       "      <td>Pants</td>\n",
       "    </tr>\n",
       "    <tr>\n",
       "      <th>4</th>\n",
       "      <td>4</td>\n",
       "      <td>847</td>\n",
       "      <td>47</td>\n",
       "      <td>Flattering shirt</td>\n",
       "      <td>This shirt is very flattering to all due to th...</td>\n",
       "      <td>5</td>\n",
       "      <td>1</td>\n",
       "      <td>6</td>\n",
       "      <td>General</td>\n",
       "      <td>Tops</td>\n",
       "      <td>Blouses</td>\n",
       "    </tr>\n",
       "  </tbody>\n",
       "</table>\n",
       "</div>"
      ],
      "text/plain": [
       "   Unnamed: 0  Clothing ID  Age                    Title  \\\n",
       "0           0          767   33                      NaN   \n",
       "1           1         1080   34                      NaN   \n",
       "2           2         1077   60  Some major design flaws   \n",
       "3           3         1049   50         My favorite buy!   \n",
       "4           4          847   47         Flattering shirt   \n",
       "\n",
       "                                         Review Text  Rating  Recommended IND  \\\n",
       "0  Absolutely wonderful - silky and sexy and comf...       4                1   \n",
       "1  Love this dress!  it's sooo pretty.  i happene...       5                1   \n",
       "2  I had such high hopes for this dress and reall...       3                0   \n",
       "3  I love, love, love this jumpsuit. it's fun, fl...       5                1   \n",
       "4  This shirt is very flattering to all due to th...       5                1   \n",
       "\n",
       "   Positive Feedback Count   Division Name Department Name Class Name  \n",
       "0                        0       Initmates        Intimate  Intimates  \n",
       "1                        4         General         Dresses    Dresses  \n",
       "2                        0         General         Dresses    Dresses  \n",
       "3                        0  General Petite         Bottoms      Pants  \n",
       "4                        6         General            Tops    Blouses  "
      ]
     },
     "execution_count": 6,
     "metadata": {},
     "output_type": "execute_result"
    }
   ],
   "source": [
    "df.head(5)"
   ]
  },
  {
   "cell_type": "markdown",
   "metadata": {},
   "source": [
    "## Data Preprocessing"
   ]
  },
  {
   "cell_type": "code",
   "execution_count": 7,
   "metadata": {},
   "outputs": [],
   "source": [
    "df = df.drop('Unnamed: 0', axis = 1)\n",
    "df = df.drop('Clothing ID', axis = 1)"
   ]
  },
  {
   "cell_type": "code",
   "execution_count": 8,
   "metadata": {},
   "outputs": [],
   "source": [
    "df['Review'] = df['Title'] + ' ' + df['Review Text']"
   ]
  },
  {
   "cell_type": "code",
   "execution_count": 9,
   "metadata": {},
   "outputs": [
    {
     "data": {
      "text/plain": [
       "Age                           0\n",
       "Rating                        0\n",
       "Recommended IND               0\n",
       "Positive Feedback Count       0\n",
       "Division Name                14\n",
       "Department Name              14\n",
       "Class Name                   14\n",
       "Review                     3811\n",
       "dtype: int64"
      ]
     },
     "execution_count": 9,
     "metadata": {},
     "output_type": "execute_result"
    }
   ],
   "source": [
    "df = df.drop(['Title','Review Text'], axis = 1)\n",
    "df.isnull().sum()"
   ]
  },
  {
   "cell_type": "code",
   "execution_count": 10,
   "metadata": {},
   "outputs": [],
   "source": [
    "df = df.dropna(subset = ['Review'])\n",
    "df = df.dropna(subset = ['Division Name'])"
   ]
  },
  {
   "cell_type": "code",
   "execution_count": 11,
   "metadata": {},
   "outputs": [
    {
     "data": {
      "text/plain": [
       "Age                        0\n",
       "Rating                     0\n",
       "Recommended IND            0\n",
       "Positive Feedback Count    0\n",
       "Division Name              0\n",
       "Department Name            0\n",
       "Class Name                 0\n",
       "Review                     0\n",
       "dtype: int64"
      ]
     },
     "execution_count": 11,
     "metadata": {},
     "output_type": "execute_result"
    }
   ],
   "source": [
    "df.isnull().sum()"
   ]
  },
  {
   "cell_type": "code",
   "execution_count": 12,
   "metadata": {},
   "outputs": [],
   "source": [
    "# Checking for outliers."
   ]
  },
  {
   "cell_type": "code",
   "execution_count": 13,
   "metadata": {},
   "outputs": [
    {
     "data": {
      "image/png": "[encoded data removed]",
      "text/plain": [
       "<Figure size 720x72 with 1 Axes>"
      ]
     },
     "metadata": {
      "needs_background": "light"
     },
     "output_type": "display_data"
    },
    {
     "data": {
      "image/png": "[encoded data removed]",
      "text/plain": [
       "<Figure size 720x72 with 1 Axes>"
      ]
     },
     "metadata": {
      "needs_background": "light"
     },
     "output_type": "display_data"
    }
   ],
   "source": [
    "for i in ['Age','Positive Feedback Count']:\n",
    "    plt.figure(figsize = (10,1))\n",
    "    sns.boxplot(data = df, x = i)\n",
    "    plt.show()"
   ]
  },
  {
   "cell_type": "code",
   "execution_count": 14,
   "metadata": {},
   "outputs": [],
   "source": [
    "#   Applying Square root transform.\n",
    "for i in ['Age','Positive Feedback Count']:\n",
    "    df[i] = df[i].apply(lambda x : np.sqrt(x))"
   ]
  },
  {
   "cell_type": "code",
   "execution_count": 15,
   "metadata": {},
   "outputs": [
    {
     "data": {
      "image/png": "[encoded data removed]",
      "text/plain": [
       "<Figure size 720x72 with 1 Axes>"
      ]
     },
     "metadata": {
      "needs_background": "light"
     },
     "output_type": "display_data"
    },
    {
     "data": {
      "image/png": "[encoded data removed]",
      "text/plain": [
       "<Figure size 720x72 with 1 Axes>"
      ]
     },
     "metadata": {
      "needs_background": "light"
     },
     "output_type": "display_data"
    }
   ],
   "source": [
    "for i in ['Age','Positive Feedback Count']:\n",
    "    plt.figure(figsize = (10,1))\n",
    "    sns.boxplot(data = df, x = i)\n",
    "    plt.show()"
   ]
  },
  {
   "cell_type": "code",
   "execution_count": 16,
   "metadata": {},
   "outputs": [],
   "source": [
    "# again Applying Square root transform.\n",
    "for i in ['Age','Positive Feedback Count']:\n",
    "    df[i] = df[i].apply(lambda x : np.sqrt(x))"
   ]
  },
  {
   "cell_type": "code",
   "execution_count": 17,
   "metadata": {},
   "outputs": [
    {
     "data": {
      "image/png": "[encoded data removed]",
      "text/plain": [
       "<Figure size 720x72 with 1 Axes>"
      ]
     },
     "metadata": {
      "needs_background": "light"
     },
     "output_type": "display_data"
    },
    {
     "data": {
      "image/png": "[encoded data removed]",
      "text/plain": [
       "<Figure size 720x72 with 1 Axes>"
      ]
     },
     "metadata": {
      "needs_background": "light"
     },
     "output_type": "display_data"
    }
   ],
   "source": [
    "for i in ['Age','Positive Feedback Count']:\n",
    "    plt.figure(figsize = (10,1))\n",
    "    sns.boxplot(data = df, x = i)\n",
    "    plt.show()"
   ]
  },
  {
   "cell_type": "code",
   "execution_count": 18,
   "metadata": {},
   "outputs": [],
   "source": [
    "df = pd.get_dummies(df, columns = ['Division Name','Department Name','Class Name'], drop_first = True)"
   ]
  },
  {
   "cell_type": "code",
   "execution_count": 19,
   "metadata": {},
   "outputs": [
    {
     "data": {
      "text/html": [
       "<div>\n",
       "<style scoped>\n",
       "    .dataframe tbody tr th:only-of-type {\n",
       "        vertical-align: middle;\n",
       "    }\n",
       "\n",
       "    .dataframe tbody tr th {\n",
       "        vertical-align: top;\n",
       "    }\n",
       "\n",
       "    .dataframe thead th {\n",
       "        text-align: right;\n",
       "    }\n",
       "</style>\n",
       "<table border=\"1\" class=\"dataframe\">\n",
       "  <thead>\n",
       "    <tr style=\"text-align: right;\">\n",
       "      <th></th>\n",
       "      <th>Age</th>\n",
       "      <th>Rating</th>\n",
       "      <th>Recommended IND</th>\n",
       "      <th>Positive Feedback Count</th>\n",
       "      <th>Review</th>\n",
       "      <th>Division Name_General Petite</th>\n",
       "      <th>Division Name_Initmates</th>\n",
       "      <th>Department Name_Dresses</th>\n",
       "      <th>Department Name_Intimate</th>\n",
       "      <th>Department Name_Jackets</th>\n",
       "      <th>...</th>\n",
       "      <th>Class Name_Legwear</th>\n",
       "      <th>Class Name_Lounge</th>\n",
       "      <th>Class Name_Outerwear</th>\n",
       "      <th>Class Name_Pants</th>\n",
       "      <th>Class Name_Shorts</th>\n",
       "      <th>Class Name_Skirts</th>\n",
       "      <th>Class Name_Sleep</th>\n",
       "      <th>Class Name_Sweaters</th>\n",
       "      <th>Class Name_Swim</th>\n",
       "      <th>Class Name_Trend</th>\n",
       "    </tr>\n",
       "  </thead>\n",
       "  <tbody>\n",
       "    <tr>\n",
       "      <th>2</th>\n",
       "      <td>2.783158</td>\n",
       "      <td>3</td>\n",
       "      <td>0</td>\n",
       "      <td>0.0</td>\n",
       "      <td>Some major design flaws I had such high hopes ...</td>\n",
       "      <td>0</td>\n",
       "      <td>0</td>\n",
       "      <td>1</td>\n",
       "      <td>0</td>\n",
       "      <td>0</td>\n",
       "      <td>...</td>\n",
       "      <td>0</td>\n",
       "      <td>0</td>\n",
       "      <td>0</td>\n",
       "      <td>0</td>\n",
       "      <td>0</td>\n",
       "      <td>0</td>\n",
       "      <td>0</td>\n",
       "      <td>0</td>\n",
       "      <td>0</td>\n",
       "      <td>0</td>\n",
       "    </tr>\n",
       "    <tr>\n",
       "      <th>3</th>\n",
       "      <td>2.659148</td>\n",
       "      <td>5</td>\n",
       "      <td>1</td>\n",
       "      <td>0.0</td>\n",
       "      <td>My favorite buy! I love, love, love this jumps...</td>\n",
       "      <td>1</td>\n",
       "      <td>0</td>\n",
       "      <td>0</td>\n",
       "      <td>0</td>\n",
       "      <td>0</td>\n",
       "      <td>...</td>\n",
       "      <td>0</td>\n",
       "      <td>0</td>\n",
       "      <td>0</td>\n",
       "      <td>1</td>\n",
       "      <td>0</td>\n",
       "      <td>0</td>\n",
       "      <td>0</td>\n",
       "      <td>0</td>\n",
       "      <td>0</td>\n",
       "      <td>0</td>\n",
       "    </tr>\n",
       "  </tbody>\n",
       "</table>\n",
       "<p>2 rows × 31 columns</p>\n",
       "</div>"
      ],
      "text/plain": [
       "        Age  Rating  Recommended IND  Positive Feedback Count  \\\n",
       "2  2.783158       3                0                      0.0   \n",
       "3  2.659148       5                1                      0.0   \n",
       "\n",
       "                                              Review  \\\n",
       "2  Some major design flaws I had such high hopes ...   \n",
       "3  My favorite buy! I love, love, love this jumps...   \n",
       "\n",
       "   Division Name_General Petite  Division Name_Initmates  \\\n",
       "2                             0                        0   \n",
       "3                             1                        0   \n",
       "\n",
       "   Department Name_Dresses  Department Name_Intimate  Department Name_Jackets  \\\n",
       "2                        1                         0                        0   \n",
       "3                        0                         0                        0   \n",
       "\n",
       "   ...  Class Name_Legwear  Class Name_Lounge  Class Name_Outerwear  \\\n",
       "2  ...                   0                  0                     0   \n",
       "3  ...                   0                  0                     0   \n",
       "\n",
       "   Class Name_Pants  Class Name_Shorts  Class Name_Skirts  Class Name_Sleep  \\\n",
       "2                 0                  0                  0                 0   \n",
       "3                 1                  0                  0                 0   \n",
       "\n",
       "   Class Name_Sweaters  Class Name_Swim  Class Name_Trend  \n",
       "2                    0                0                 0  \n",
       "3                    0                0                 0  \n",
       "\n",
       "[2 rows x 31 columns]"
      ]
     },
     "execution_count": 19,
     "metadata": {},
     "output_type": "execute_result"
    }
   ],
   "source": [
    "df.head(2)"
   ]
  },
  {
   "cell_type": "code",
   "execution_count": 20,
   "metadata": {},
   "outputs": [
    {
     "data": {
      "text/plain": [
       "2    Some major design flaws I had such high hopes ...\n",
       "3    My favorite buy! I love, love, love this jumps...\n",
       "4    Flattering shirt This shirt is very flattering...\n",
       "5    Not for the very petite I love tracy reese dre...\n",
       "6    Cagrcoal shimmer fun I aded this in my basket ...\n",
       "Name: Review, dtype: object"
      ]
     },
     "execution_count": 20,
     "metadata": {},
     "output_type": "execute_result"
    }
   ],
   "source": [
    "df['Review'].head()"
   ]
  },
  {
   "cell_type": "markdown",
   "metadata": {},
   "source": [
    "#              Review Text Handling :\n",
    "##                 a)Text Preprocessing-ReGEX\n",
    "##                 b)  Lemmatization using nltk\n",
    "##                 c)  Lemmatization using spacy---*\n",
    "##                 d)  Base model \n",
    "##                 e) Vectorization  by TF-IDF\n",
    "##                 f) Vectorization by word2vec \n",
    "##                 g) Vectorization by BOW \n"
   ]
  },
  {
   "cell_type": "code",
   "execution_count": 21,
   "metadata": {},
   "outputs": [
    {
     "data": {
      "text/plain": [
       "2        Some major design flaws I had such high hopes ...\n",
       "3        My favorite buy! I love, love, love this jumps...\n",
       "4        Flattering shirt This shirt is very flattering...\n",
       "5        Not for the very petite I love tracy reese dre...\n",
       "6        Cagrcoal shimmer fun I aded this in my basket ...\n",
       "                               ...                        \n",
       "23481    Great dress for many occasions I was very happ...\n",
       "23482    Wish it was made of cotton It reminds me of ma...\n",
       "23483    Cute, but see through This fit well, but the t...\n",
       "23484    Very cute dress, perfect for summer parties an...\n",
       "23485    Please make more like this one! This dress in ...\n",
       "Name: Review, Length: 19662, dtype: object"
      ]
     },
     "execution_count": 21,
     "metadata": {},
     "output_type": "execute_result"
    }
   ],
   "source": [
    "df['Review']"
   ]
  },
  {
   "cell_type": "markdown",
   "metadata": {},
   "source": [
    "## a) Text Preprocessing  -ReGEX"
   ]
  },
  {
   "cell_type": "code",
   "execution_count": 22,
   "metadata": {},
   "outputs": [],
   "source": [
    "import re\n",
    "def regex(string):\n",
    "    s1 = re.sub('[^a-zA-Z\\s]','',string)\n",
    "    s1 = re.sub(r'\\[[0-9]*\\]',' ',s1)\n",
    "    s1=s1.lower() \n",
    "    return re.sub(r'[\\d_]+','',s1)"
   ]
  },
  {
   "cell_type": "code",
   "execution_count": 23,
   "metadata": {},
   "outputs": [],
   "source": [
    "df['Review'] = df['Review'].apply(regex)"
   ]
  },
  {
   "cell_type": "code",
   "execution_count": 24,
   "metadata": {},
   "outputs": [
    {
     "data": {
      "text/plain": [
       "2    some major design flaws i had such high hopes ...\n",
       "Name: Review, dtype: object"
      ]
     },
     "execution_count": 24,
     "metadata": {},
     "output_type": "execute_result"
    }
   ],
   "source": [
    " df['Review'][0:1]"
   ]
  },
  {
   "cell_type": "code",
   "execution_count": null,
   "metadata": {},
   "outputs": [],
   "source": []
  },
  {
   "cell_type": "code",
   "execution_count": null,
   "metadata": {},
   "outputs": [],
   "source": []
  },
  {
   "cell_type": "markdown",
   "metadata": {},
   "source": [
    "## b)   Lemmatization using nltk"
   ]
  },
  {
   "cell_type": "code",
   "execution_count": 25,
   "metadata": {},
   "outputs": [
    {
     "name": "stderr",
     "output_type": "stream",
     "text": [
      "J:\\Anaconda\\lib\\site-packages\\sklearn\\feature_extraction\\image.py:167: DeprecationWarning: `np.int` is a deprecated alias for the builtin `int`. To silence this warning, use `int` by itself. Doing this will not modify any behavior and is safe. When replacing `np.int`, you may wish to use e.g. `np.int64` or `np.int32` to specify the precision. If you wish to review your current use, check the release note link for additional information.\n",
      "Deprecated in NumPy 1.20; for more details and guidance: https://numpy.org/devdocs/release/1.20.0-notes.html#deprecations\n",
      "  dtype=np.int):\n",
      "J:\\Anaconda\\lib\\site-packages\\sklearn\\linear_model\\least_angle.py:30: DeprecationWarning: `np.float` is a deprecated alias for the builtin `float`. To silence this warning, use `float` by itself. Doing this will not modify any behavior and is safe. If you specifically wanted the numpy scalar type, use `np.float64` here.\n",
      "Deprecated in NumPy 1.20; for more details and guidance: https://numpy.org/devdocs/release/1.20.0-notes.html#deprecations\n",
      "  method='lar', copy_X=True, eps=np.finfo(np.float).eps,\n",
      "J:\\Anaconda\\lib\\site-packages\\sklearn\\linear_model\\least_angle.py:167: DeprecationWarning: `np.float` is a deprecated alias for the builtin `float`. To silence this warning, use `float` by itself. Doing this will not modify any behavior and is safe. If you specifically wanted the numpy scalar type, use `np.float64` here.\n",
      "Deprecated in NumPy 1.20; for more details and guidance: https://numpy.org/devdocs/release/1.20.0-notes.html#deprecations\n",
      "  method='lar', copy_X=True, eps=np.finfo(np.float).eps,\n",
      "J:\\Anaconda\\lib\\site-packages\\sklearn\\linear_model\\least_angle.py:284: DeprecationWarning: `np.float` is a deprecated alias for the builtin `float`. To silence this warning, use `float` by itself. Doing this will not modify any behavior and is safe. If you specifically wanted the numpy scalar type, use `np.float64` here.\n",
      "Deprecated in NumPy 1.20; for more details and guidance: https://numpy.org/devdocs/release/1.20.0-notes.html#deprecations\n",
      "  eps=np.finfo(np.float).eps, copy_Gram=True, verbose=0,\n",
      "J:\\Anaconda\\lib\\site-packages\\sklearn\\linear_model\\least_angle.py:862: DeprecationWarning: `np.float` is a deprecated alias for the builtin `float`. To silence this warning, use `float` by itself. Doing this will not modify any behavior and is safe. If you specifically wanted the numpy scalar type, use `np.float64` here.\n",
      "Deprecated in NumPy 1.20; for more details and guidance: https://numpy.org/devdocs/release/1.20.0-notes.html#deprecations\n",
      "  eps=np.finfo(np.float).eps, copy_X=True, fit_path=True,\n",
      "J:\\Anaconda\\lib\\site-packages\\sklearn\\linear_model\\least_angle.py:1101: DeprecationWarning: `np.float` is a deprecated alias for the builtin `float`. To silence this warning, use `float` by itself. Doing this will not modify any behavior and is safe. If you specifically wanted the numpy scalar type, use `np.float64` here.\n",
      "Deprecated in NumPy 1.20; for more details and guidance: https://numpy.org/devdocs/release/1.20.0-notes.html#deprecations\n",
      "  eps=np.finfo(np.float).eps, copy_X=True, fit_path=True,\n",
      "J:\\Anaconda\\lib\\site-packages\\sklearn\\linear_model\\least_angle.py:1127: DeprecationWarning: `np.float` is a deprecated alias for the builtin `float`. To silence this warning, use `float` by itself. Doing this will not modify any behavior and is safe. If you specifically wanted the numpy scalar type, use `np.float64` here.\n",
      "Deprecated in NumPy 1.20; for more details and guidance: https://numpy.org/devdocs/release/1.20.0-notes.html#deprecations\n",
      "  eps=np.finfo(np.float).eps, positive=False):\n",
      "J:\\Anaconda\\lib\\site-packages\\sklearn\\linear_model\\least_angle.py:1362: DeprecationWarning: `np.float` is a deprecated alias for the builtin `float`. To silence this warning, use `float` by itself. Doing this will not modify any behavior and is safe. If you specifically wanted the numpy scalar type, use `np.float64` here.\n",
      "Deprecated in NumPy 1.20; for more details and guidance: https://numpy.org/devdocs/release/1.20.0-notes.html#deprecations\n",
      "  max_n_alphas=1000, n_jobs=None, eps=np.finfo(np.float).eps,\n",
      "J:\\Anaconda\\lib\\site-packages\\sklearn\\linear_model\\least_angle.py:1602: DeprecationWarning: `np.float` is a deprecated alias for the builtin `float`. To silence this warning, use `float` by itself. Doing this will not modify any behavior and is safe. If you specifically wanted the numpy scalar type, use `np.float64` here.\n",
      "Deprecated in NumPy 1.20; for more details and guidance: https://numpy.org/devdocs/release/1.20.0-notes.html#deprecations\n",
      "  max_n_alphas=1000, n_jobs=None, eps=np.finfo(np.float).eps,\n",
      "J:\\Anaconda\\lib\\site-packages\\sklearn\\linear_model\\least_angle.py:1738: DeprecationWarning: `np.float` is a deprecated alias for the builtin `float`. To silence this warning, use `float` by itself. Doing this will not modify any behavior and is safe. If you specifically wanted the numpy scalar type, use `np.float64` here.\n",
      "Deprecated in NumPy 1.20; for more details and guidance: https://numpy.org/devdocs/release/1.20.0-notes.html#deprecations\n",
      "  eps=np.finfo(np.float).eps, copy_X=True, positive=False):\n"
     ]
    }
   ],
   "source": [
    "import nltk\n",
    "from nltk.corpus import stopwords\n",
    "#nltk.download('punkt')"
   ]
  },
  {
   "cell_type": "code",
   "execution_count": 26,
   "metadata": {},
   "outputs": [],
   "source": [
    "from nltk.stem.wordnet import WordNetLemmatizer\n",
    "le = WordNetLemmatizer()\n",
    "def WordNetLemmatizer(text):  \n",
    "    le_text = [le.lemmatize(word) for word in text.split()]\n",
    "    return \" \".join(le_text)     "
   ]
  },
  {
   "cell_type": "code",
   "execution_count": 27,
   "metadata": {},
   "outputs": [],
   "source": [
    "df['Review'] = df['Review'].apply(WordNetLemmatizer) "
   ]
  },
  {
   "cell_type": "code",
   "execution_count": null,
   "metadata": {},
   "outputs": [],
   "source": []
  },
  {
   "cell_type": "markdown",
   "metadata": {},
   "source": [
    "  ## d)  Base model "
   ]
  },
  {
   "cell_type": "code",
   "execution_count": 28,
   "metadata": {},
   "outputs": [],
   "source": [
    "x = df['Review']\n",
    "y = df['Recommended IND']"
   ]
  },
  {
   "cell_type": "code",
   "execution_count": 29,
   "metadata": {},
   "outputs": [],
   "source": [
    "from sklearn.model_selection import train_test_split\n",
    "X_train, X_test, y_train, y_test = train_test_split(x,y,test_size=0.3,random_state=42)"
   ]
  },
  {
   "cell_type": "code",
   "execution_count": 30,
   "metadata": {},
   "outputs": [],
   "source": [
    "from sklearn.linear_model import LogisticRegression\n",
    "lr = LogisticRegression(solver = 'liblinear')"
   ]
  },
  {
   "cell_type": "code",
   "execution_count": 31,
   "metadata": {},
   "outputs": [],
   "source": [
    "from sklearn.metrics import accuracy_score, confusion_matrix, classification_report, roc_auc_score\n",
    "def model_eval(algo,xtrain,xtest,ytrain,ytest):\n",
    "    algo.fit(xtrain,ytrain)\n",
    "    \n",
    "    y_train_pred = algo.predict(xtrain)\n",
    "    y_train_prob = algo.predict_proba(xtrain)[:,1]\n",
    "    y_test_pred = algo.predict(xtest)\n",
    "    y_test_prob = algo.predict_proba(xtest)[:,1]\n",
    "\n",
    "    print('Accuracy Score Train : ', accuracy_score(ytrain,y_train_pred))\n",
    "    print('Classification Report for Train : \\n', classification_report(ytrain,y_train_pred))\n",
    "    print('AUC ROC Train : ', roc_auc_score(ytrain,y_train_prob))\n",
    "    print('Confusion Matrix for Test : \\n', confusion_matrix(ytrain,y_train_pred))\n",
    "        \n",
    "    print('Accuracy Score Test : ', accuracy_score(ytest,y_test_pred))\n",
    "    print('Classification Report for Test : \\n', classification_report(ytest,y_test_pred))\n",
    "    print('AUC ROC Test : ', roc_auc_score(ytest,y_test_prob))\n",
    "    print('Confusion Matrix for Test : \\n', confusion_matrix(ytest,y_test_pred))"
   ]
  },
  {
   "cell_type": "code",
   "execution_count": null,
   "metadata": {},
   "outputs": [],
   "source": []
  },
  {
   "cell_type": "markdown",
   "metadata": {},
   "source": [
    "##  e)  Vectorization using TF-IDF\n"
   ]
  },
  {
   "cell_type": "code",
   "execution_count": 32,
   "metadata": {},
   "outputs": [],
   "source": [
    "from sklearn.feature_extraction.text import TfidfVectorizer\n",
    "tfidf=TfidfVectorizer(ngram_range = (1,1), stop_words = 'english')\n",
    "X_train_tf_idf = tfidf.fit_transform(X_train)\n",
    "X_test_tf_idf = tfidf.transform(X_test)"
   ]
  },
  {
   "cell_type": "code",
   "execution_count": 33,
   "metadata": {},
   "outputs": [
    {
     "name": "stdout",
     "output_type": "stream",
     "text": [
      "  (0, 3523)\t0.5020930032031599\n",
      "  (0, 1703)\t0.44918295573883454\n",
      "  (0, 3514)\t0.24114644091650322\n",
      "  (0, 11554)\t0.3910918819600952\n",
      "  (0, 8466)\t0.29735489922937525\n",
      "  (0, 341)\t0.4966013352888394\n"
     ]
    }
   ],
   "source": [
    "for i in  X_train_tf_idf[0:1]:\n",
    "    print(i)\n",
    "    \n",
    "#displaying vectors of the  first row of review "
   ]
  },
  {
   "cell_type": "code",
   "execution_count": 34,
   "metadata": {},
   "outputs": [
    {
     "name": "stdout",
     "output_type": "stream",
     "text": [
      "['amazing', 'perfect', 'summer', 'dress', 'this', 'is', 'a', 'must', 'buy', 'it', 'can', 'be', 'dressed', 'up', 'or', 'down']\n"
     ]
    }
   ],
   "source": [
    "for i in  X_train[0:1].str.split(' '):\n",
    "    print(i)\n",
    "#  review column"
   ]
  },
  {
   "cell_type": "code",
   "execution_count": 35,
   "metadata": {},
   "outputs": [
    {
     "name": "stdout",
     "output_type": "stream",
     "text": [
      "Accuracy Score Train :  0.9164426360531861\n",
      "Classification Report for Train : \n",
      "               precision    recall  f1-score   support\n",
      "\n",
      "           0       0.88      0.62      0.73      2466\n",
      "           1       0.92      0.98      0.95     11297\n",
      "\n",
      "    accuracy                           0.92     13763\n",
      "   macro avg       0.90      0.80      0.84     13763\n",
      "weighted avg       0.91      0.92      0.91     13763\n",
      "\n",
      "AUC ROC Train :  0.967455527420417\n",
      "Confusion Matrix for Test : \n",
      " [[ 1532   934]\n",
      " [  216 11081]]\n",
      "Accuracy Score Test :  0.898287845397525\n",
      "Classification Report for Test : \n",
      "               precision    recall  f1-score   support\n",
      "\n",
      "           0       0.85      0.56      0.67      1109\n",
      "           1       0.91      0.98      0.94      4790\n",
      "\n",
      "    accuracy                           0.90      5899\n",
      "   macro avg       0.88      0.77      0.81      5899\n",
      "weighted avg       0.89      0.90      0.89      5899\n",
      "\n",
      "AUC ROC Test :  0.9480566102735073\n",
      "Confusion Matrix for Test : \n",
      " [[ 623  486]\n",
      " [ 114 4676]]\n"
     ]
    },
    {
     "name": "stderr",
     "output_type": "stream",
     "text": [
      "J:\\Anaconda\\lib\\site-packages\\sklearn\\linear_model\\base.py:291: DeprecationWarning: `np.int` is a deprecated alias for the builtin `int`. To silence this warning, use `int` by itself. Doing this will not modify any behavior and is safe. When replacing `np.int`, you may wish to use e.g. `np.int64` or `np.int32` to specify the precision. If you wish to review your current use, check the release note link for additional information.\n",
      "Deprecated in NumPy 1.20; for more details and guidance: https://numpy.org/devdocs/release/1.20.0-notes.html#deprecations\n",
      "  indices = (scores > 0).astype(np.int)\n",
      "J:\\Anaconda\\lib\\site-packages\\sklearn\\linear_model\\base.py:291: DeprecationWarning: `np.int` is a deprecated alias for the builtin `int`. To silence this warning, use `int` by itself. Doing this will not modify any behavior and is safe. When replacing `np.int`, you may wish to use e.g. `np.int64` or `np.int32` to specify the precision. If you wish to review your current use, check the release note link for additional information.\n",
      "Deprecated in NumPy 1.20; for more details and guidance: https://numpy.org/devdocs/release/1.20.0-notes.html#deprecations\n",
      "  indices = (scores > 0).astype(np.int)\n"
     ]
    }
   ],
   "source": [
    "model_eval(lr,X_train_tf_idf,X_test_tf_idf, y_train, y_test)"
   ]
  },
  {
   "cell_type": "code",
   "execution_count": 36,
   "metadata": {},
   "outputs": [
    {
     "name": "stderr",
     "output_type": "stream",
     "text": [
      "J:\\Anaconda\\lib\\site-packages\\sklearn\\linear_model\\base.py:291: DeprecationWarning: `np.int` is a deprecated alias for the builtin `int`. To silence this warning, use `int` by itself. Doing this will not modify any behavior and is safe. When replacing `np.int`, you may wish to use e.g. `np.int64` or `np.int32` to specify the precision. If you wish to review your current use, check the release note link for additional information.\n",
      "Deprecated in NumPy 1.20; for more details and guidance: https://numpy.org/devdocs/release/1.20.0-notes.html#deprecations\n",
      "  indices = (scores > 0).astype(np.int)\n"
     ]
    },
    {
     "data": {
      "text/plain": [
       "array([0], dtype=int64)"
      ]
     },
     "execution_count": 36,
     "metadata": {},
     "output_type": "execute_result"
    }
   ],
   "source": [
    "val=\"bad\"\n",
    "p=tfidf.transform([val])\n",
    "lr.predict(p)"
   ]
  },
  {
   "cell_type": "code",
   "execution_count": 37,
   "metadata": {},
   "outputs": [
    {
     "name": "stderr",
     "output_type": "stream",
     "text": [
      "J:\\Anaconda\\lib\\site-packages\\sklearn\\linear_model\\base.py:291: DeprecationWarning: `np.int` is a deprecated alias for the builtin `int`. To silence this warning, use `int` by itself. Doing this will not modify any behavior and is safe. When replacing `np.int`, you may wish to use e.g. `np.int64` or `np.int32` to specify the precision. If you wish to review your current use, check the release note link for additional information.\n",
      "Deprecated in NumPy 1.20; for more details and guidance: https://numpy.org/devdocs/release/1.20.0-notes.html#deprecations\n",
      "  indices = (scores > 0).astype(np.int)\n"
     ]
    }
   ],
   "source": [
    "val=\"good\"\n",
    "p=tfidf.transform([val])\n",
    "q=lr.predict(p)"
   ]
  },
  {
   "cell_type": "code",
   "execution_count": 38,
   "metadata": {},
   "outputs": [
    {
     "name": "stdout",
     "output_type": "stream",
     "text": [
      "[1]\n"
     ]
    }
   ],
   "source": [
    "print(q)"
   ]
  },
  {
   "cell_type": "code",
   "execution_count": null,
   "metadata": {},
   "outputs": [],
   "source": []
  },
  {
   "cell_type": "code",
   "execution_count": null,
   "metadata": {},
   "outputs": [],
   "source": []
  },
  {
   "cell_type": "code",
   "execution_count": null,
   "metadata": {},
   "outputs": [],
   "source": []
  },
  {
   "cell_type": "markdown",
   "metadata": {},
   "source": [
    "## f) Vectorization by word2vec"
   ]
  },
  {
   "cell_type": "code",
   "execution_count": 39,
   "metadata": {},
   "outputs": [
    {
     "name": "stderr",
     "output_type": "stream",
     "text": [
      "J:\\Anaconda\\lib\\site-packages\\gensim\\utils.py:1197: UserWarning: detected Windows; aliasing chunkize to chunkize_serial\n",
      "  warnings.warn(\"detected Windows; aliasing chunkize to chunkize_serial\")\n"
     ]
    }
   ],
   "source": [
    "#conda install -c anaconda gensim\n",
    "# or install directly from anaconda ide\n",
    "#\n",
    "import gensim"
   ]
  },
  {
   "cell_type": "code",
   "execution_count": 40,
   "metadata": {},
   "outputs": [],
   "source": [
    "from gensim.models import Word2Vec"
   ]
  },
  {
   "cell_type": "code",
   "execution_count": 41,
   "metadata": {},
   "outputs": [],
   "source": [
    "Review_coulmn_tokensiz= df['Review'].apply(lambda x: x.split()) # tokenizing Review column\n",
    "# lemma havent applied  due to error\n"
   ]
  },
  {
   "cell_type": "code",
   "execution_count": 42,
   "metadata": {},
   "outputs": [],
   "source": [
    "W2V_model=Word2Vec(Review_coulmn_tokensiz, min_count=2)  "
   ]
  },
  {
   "cell_type": "code",
   "execution_count": 43,
   "metadata": {},
   "outputs": [
    {
     "name": "stderr",
     "output_type": "stream",
     "text": [
      "J:\\Anaconda\\lib\\site-packages\\ipykernel_launcher.py:1: DeprecationWarning: Call to deprecated `most_similar` (Method will be removed in 4.0.0, use self.wv.most_similar() instead).\n",
      "  \"\"\"Entry point for launching an IPython kernel.\n"
     ]
    },
    {
     "data": {
      "text/plain": [
       "[('great', 0.8003445267677307),\n",
       " ('nice', 0.713800311088562),\n",
       " ('excellent', 0.6678763031959534),\n",
       " ('poor', 0.626145601272583),\n",
       " ('fantastic', 0.6056458353996277),\n",
       " ('high', 0.5981118083000183),\n",
       " ('fabulous', 0.585537850856781),\n",
       " ('terrible', 0.5788165330886841),\n",
       " ('amazing', 0.5641697645187378),\n",
       " ('ok', 0.5515357255935669)]"
      ]
     },
     "execution_count": 43,
     "metadata": {},
     "output_type": "execute_result"
    }
   ],
   "source": [
    "W2V_model.most_similar(positive=\"good\")"
   ]
  },
  {
   "cell_type": "code",
   "execution_count": 44,
   "metadata": {},
   "outputs": [
    {
     "name": "stderr",
     "output_type": "stream",
     "text": [
      "J:\\Anaconda\\lib\\site-packages\\ipykernel_launcher.py:1: DeprecationWarning: Call to deprecated `most_similar` (Method will be removed in 4.0.0, use self.wv.most_similar() instead).\n",
      "  \"\"\"Entry point for launching an IPython kernel.\n"
     ]
    },
    {
     "data": {
      "text/plain": [
       "[('busy', 0.6723496317863464),\n",
       " ('wrinkleprone', 0.6470484733581543),\n",
       " ('disappointing', 0.6429738402366638),\n",
       " ('shortbut', 0.6346117854118347),\n",
       " ('low', 0.5922458171844482),\n",
       " ('baggy', 0.591025173664093),\n",
       " ('much', 0.5771484375),\n",
       " ('breaker', 0.5750579833984375),\n",
       " ('big', 0.5703336000442505),\n",
       " ('linedbut', 0.5669806003570557)]"
      ]
     },
     "execution_count": 44,
     "metadata": {},
     "output_type": "execute_result"
    }
   ],
   "source": [
    "W2V_model.most_similar(positive=\"bad\")"
   ]
  },
  {
   "cell_type": "code",
   "execution_count": 46,
   "metadata": {},
   "outputs": [],
   "source": [
    "#training word 2 vec model\n"
   ]
  },
  {
   "cell_type": "code",
   "execution_count": 47,
   "metadata": {},
   "outputs": [
    {
     "data": {
      "text/plain": [
       "['some',\n",
       " 'major',\n",
       " 'design',\n",
       " 'flaw',\n",
       " 'i',\n",
       " 'had',\n",
       " 'such',\n",
       " 'high',\n",
       " 'hope',\n",
       " 'for',\n",
       " 'this',\n",
       " 'dress',\n",
       " 'and',\n",
       " 'really',\n",
       " 'wanted',\n",
       " 'it',\n",
       " 'to',\n",
       " 'work',\n",
       " 'me',\n",
       " 'initially',\n",
       " 'ordered',\n",
       " 'the',\n",
       " 'petite',\n",
       " 'small',\n",
       " 'my',\n",
       " 'usual',\n",
       " 'size',\n",
       " 'but',\n",
       " 'found',\n",
       " 'be',\n",
       " 'outrageously',\n",
       " 'so',\n",
       " 'in',\n",
       " 'fact',\n",
       " 'that',\n",
       " 'could',\n",
       " 'not',\n",
       " 'zip',\n",
       " 'up',\n",
       " 'reordered',\n",
       " 'medium',\n",
       " 'which',\n",
       " 'wa',\n",
       " 'just',\n",
       " 'ok',\n",
       " 'overall',\n",
       " 'top',\n",
       " 'half',\n",
       " 'comfortable',\n",
       " 'fit',\n",
       " 'nicely',\n",
       " 'bottom',\n",
       " 'a',\n",
       " 'very',\n",
       " 'tight',\n",
       " 'under',\n",
       " 'layer',\n",
       " 'several',\n",
       " 'somewhat',\n",
       " 'cheap',\n",
       " 'net',\n",
       " 'over',\n",
       " 'imo',\n",
       " 'sewn',\n",
       " 'directly',\n",
       " 'into',\n",
       " 'zipper',\n",
       " 'c',\n",
       " 'favorite',\n",
       " 'buy',\n",
       " 'love',\n",
       " 'jumpsuit',\n",
       " 'fun',\n",
       " 'flirty',\n",
       " 'fabulous',\n",
       " 'every',\n",
       " 'time',\n",
       " 'wear',\n",
       " 'get',\n",
       " 'nothing',\n",
       " 'great',\n",
       " 'compliment',\n",
       " 'flattering',\n",
       " 'shirt',\n",
       " 'is',\n",
       " 'all',\n",
       " 'due',\n",
       " 'adjustable',\n",
       " 'front',\n",
       " 'tie',\n",
       " 'perfect',\n",
       " 'length',\n",
       " 'with',\n",
       " 'legging',\n",
       " 'sleeveless',\n",
       " 'pair',\n",
       " 'well',\n",
       " 'any',\n",
       " 'cardigan',\n",
       " 'tracy',\n",
       " 'reese',\n",
       " 'one',\n",
       " 'am',\n",
       " 'foot',\n",
       " 'tall',\n",
       " 'usually',\n",
       " 'p',\n",
       " 'brand',\n",
       " 'pretty',\n",
       " 'out',\n",
       " 'of',\n",
       " 'package',\n",
       " 'lot',\n",
       " 'skirt',\n",
       " 'long',\n",
       " 'full',\n",
       " 'overwhelmed',\n",
       " 'frame',\n",
       " 'stranger',\n",
       " 'alteration',\n",
       " 'shortening',\n",
       " 'would',\n",
       " 'take',\n",
       " 'away',\n",
       " 'from',\n",
       " 'embellishment',\n",
       " 'garment',\n",
       " 'color',\n",
       " 'idea',\n",
       " 'style',\n",
       " 'did',\n",
       " 'on',\n",
       " 'returned',\n",
       " 'shimmer',\n",
       " 'basket',\n",
       " 'at',\n",
       " 'hte',\n",
       " 'last',\n",
       " 'see',\n",
       " 'what',\n",
       " 'look',\n",
       " 'like',\n",
       " 'person',\n",
       " 'store',\n",
       " 'pick',\n",
       " 'went',\n",
       " 'teh',\n",
       " 'only',\n",
       " 'because',\n",
       " 'pale',\n",
       " 'gorgeous',\n",
       " 'turn',\n",
       " 'trying',\n",
       " 'prefectly',\n",
       " 'little',\n",
       " 'baggy',\n",
       " 'x',\n",
       " 'bummer',\n",
       " 'no',\n",
       " 'decided',\n",
       " 'though',\n",
       " 'said',\n",
       " 'everything',\n",
       " 'pant',\n",
       " 'kept',\n",
       " 'oops',\n",
       " 'surprisingly',\n",
       " 'go',\n",
       " 'carbon',\n",
       " 'ton',\n",
       " 'stuff',\n",
       " 'always',\n",
       " 'try',\n",
       " 'used',\n",
       " 'nice',\n",
       " 'charcoal',\n",
       " 'pencil',\n",
       " 'flare',\n",
       " 'etc',\n",
       " 'bit',\n",
       " 'big',\n",
       " 'sleeve',\n",
       " 'are',\n",
       " 'doesnt',\n",
       " 'also',\n",
       " 'loose',\n",
       " 'xx',\n",
       " 'wil',\n",
       " 'later',\n",
       " 'since',\n",
       " 'light',\n",
       " 'already',\n",
       " 'sold',\n",
       " 'smallest',\n",
       " 'an',\n",
       " 'run',\n",
       " 'snug',\n",
       " 'bust',\n",
       " 'feminine',\n",
       " 'retailer',\n",
       " 'flair',\n",
       " 'im',\n",
       " 'lb',\n",
       " 's',\n",
       " 'make',\n",
       " 'sure',\n",
       " 'wasnt',\n",
       " 'too',\n",
       " 'typically',\n",
       " 'regular',\n",
       " 'if',\n",
       " 'youre',\n",
       " 'le',\n",
       " 'busty',\n",
       " 'b',\n",
       " 'cup',\n",
       " 'or',\n",
       " 'smaller',\n",
       " 'will',\n",
       " 'you',\n",
       " 'perfectly',\n",
       " 'party',\n",
       " 'down',\n",
       " 'tulle',\n",
       " 'longer',\n",
       " 'then',\n",
       " 'fabric',\n",
       " 'underneath',\n",
       " 'made',\n",
       " 'material',\n",
       " 'esp',\n",
       " 'where',\n",
       " 'area',\n",
       " 'sp',\n",
       " 'feel',\n",
       " 'even',\n",
       " 'pulling',\n",
       " 'cause',\n",
       " 'rip',\n",
       " 'disappointed',\n",
       " 'going',\n",
       " 'christmas',\n",
       " 'year',\n",
       " 'needle',\n",
       " 'say',\n",
       " 'back',\n",
       " 'more',\n",
       " 'find',\n",
       " 'myself',\n",
       " 'review',\n",
       " 'written',\n",
       " 'by',\n",
       " 'savvy',\n",
       " 'shopper',\n",
       " 'before',\n",
       " 'most',\n",
       " 'past',\n",
       " 'they',\n",
       " 'right',\n",
       " 'their',\n",
       " 'product',\n",
       " 'case',\n",
       " 'dressif',\n",
       " 'been',\n",
       " 'doubt',\n",
       " 'have',\n",
       " 'tried',\n",
       " 'beautifully',\n",
       " 'lined',\n",
       " 'reminiscent',\n",
       " 'old',\n",
       " 'quality',\n",
       " 'solid',\n",
       " 'match',\n",
       " 'outer',\n",
       " 'print',\n",
       " 'tt',\n",
       " 'formfitting',\n",
       " 'fall',\n",
       " 'above',\n",
       " 'knee',\n",
       " 'doe',\n",
       " 'rid',\n",
       " 'bought',\n",
       " 'black',\n",
       " 'larkspur',\n",
       " 'midi',\n",
       " 'didnt',\n",
       " 'bother',\n",
       " 'lining',\n",
       " 'portion',\n",
       " 'stats',\n",
       " 'smoothly',\n",
       " 'around',\n",
       " 'chest',\n",
       " 'flowy',\n",
       " 'lower',\n",
       " 'running',\n",
       " 'strap',\n",
       " 'easily',\n",
       " 'came',\n",
       " 'below',\n",
       " 'issue',\n",
       " 'choice',\n",
       " 'holiday',\n",
       " 'gathering',\n",
       " 'conservative',\n",
       " 'enough',\n",
       " 'office',\n",
       " 'related',\n",
       " 'opinion',\n",
       " 'those',\n",
       " 'larger',\n",
       " 'definitely',\n",
       " 'perhaps',\n",
       " 'waist',\n",
       " 'problem',\n",
       " 'terrible',\n",
       " 'delicate',\n",
       " 'netting',\n",
       " 'type',\n",
       " 'got',\n",
       " 'stuck',\n",
       " 'body',\n",
       " 'took',\n",
       " 'these',\n",
       " 'them',\n",
       " 'badly',\n",
       " 'tell',\n",
       " 'put',\n",
       " 'wouldnt',\n",
       " 'hourglass',\n",
       " 'figure',\n",
       " 'straight',\n",
       " 'way',\n",
       " 'shape',\n",
       " 'sized',\n",
       " 'still',\n",
       " 'roomy',\n",
       " 'hip',\n",
       " 'sturdy',\n",
       " 'linenlike',\n",
       " 'someone',\n",
       " 'happy',\n",
       " 'need',\n",
       " 'least',\n",
       " 'average',\n",
       " 'height',\n",
       " 'taller',\n",
       " 'leg',\n",
       " 'opening',\n",
       " 'large',\n",
       " 'hit',\n",
       " 'ankle',\n",
       " 'hem',\n",
       " 'line',\n",
       " 'pleat',\n",
       " 'fluffy',\n",
       " 'think',\n",
       " 'can',\n",
       " 'imagine',\n",
       " 'may',\n",
       " 'good',\n",
       " 'white',\n",
       " 'chance',\n",
       " 'blouse',\n",
       " 'glad',\n",
       " 'crazy',\n",
       " 'about',\n",
       " 'how',\n",
       " 'photographed',\n",
       " 'model',\n",
       " 'paired',\n",
       " 'whit',\n",
       " 'worked',\n",
       " 'crisp',\n",
       " 'clean',\n",
       " 'describe',\n",
       " 'launders',\n",
       " 'drape',\n",
       " 'tucked',\n",
       " 'cant',\n",
       " 'wrong',\n",
       " 'super',\n",
       " 'cute',\n",
       " 'cozy',\n",
       " 'coat',\n",
       " 'cold',\n",
       " 'dry',\n",
       " 'day',\n",
       " 'jean',\n",
       " 'dressier',\n",
       " 'outfit',\n",
       " 'stylish',\n",
       " 'looking',\n",
       " 'something',\n",
       " 'different',\n",
       " 'new',\n",
       " 'eve',\n",
       " 'chested',\n",
       " 'form',\n",
       " 'fitting',\n",
       " 'once',\n",
       " 'steamed',\n",
       " 'xsp',\n",
       " 'tailor',\n",
       " 'do',\n",
       " 'simple',\n",
       " 'fix',\n",
       " 'pregnant',\n",
       " 'bough',\n",
       " 't',\n",
       " 'grow',\n",
       " 'provides',\n",
       " 'flexibility',\n",
       " 'torn',\n",
       " 'upset',\n",
       " 'price',\n",
       " 'thought',\n",
       " 'embroidered',\n",
       " 'when',\n",
       " 'opened',\n",
       " 'box',\n",
       " 'ver',\n",
       " 'true',\n",
       " 'tad',\n",
       " 'tiny',\n",
       " 'vibrant',\n",
       " 'unique',\n",
       " 'poofy',\n",
       " 'keep',\n",
       " 'forth',\n",
       " 'mainly',\n",
       " 'although',\n",
       " 'there',\n",
       " 'except',\n",
       " 'wish',\n",
       " 'were',\n",
       " 'emb',\n",
       " 'first',\n",
       " 'pullover',\n",
       " 'styling',\n",
       " 'side',\n",
       " 'purchased',\n",
       " 'knew',\n",
       " 'next',\n",
       " 'impossible',\n",
       " 'second',\n",
       " 'slip',\n",
       " 'ha',\n",
       " 'awkward',\n",
       " 'described',\n",
       " 'sadly',\n",
       " 'returning',\n",
       " 'exchange',\n",
       " 'dont',\n",
       " 'waisted',\n",
       " 'appears',\n",
       " 'pictured',\n",
       " 'versatile',\n",
       " 'saw',\n",
       " 'seethrough',\n",
       " 'wore',\n",
       " 'rocked',\n",
       " 'wedge',\n",
       " 'vest',\n",
       " 'careful',\n",
       " 'button',\n",
       " 'havent',\n",
       " 'off',\n",
       " 'yet',\n",
       " 'occasion',\n",
       " 'flat',\n",
       " 'loved',\n",
       " 'both',\n",
       " 'atleast',\n",
       " 'gap',\n",
       " 'much',\n",
       " 'wider',\n",
       " 'than',\n",
       " 'felt',\n",
       " 'fell',\n",
       " 'med',\n",
       " 'better',\n",
       " 'd',\n",
       " 'huge',\n",
       " 'disappointment',\n",
       " 'waiting',\n",
       " 'sweater',\n",
       " 'ship',\n",
       " 'week',\n",
       " 'excited',\n",
       " 'arrive',\n",
       " 'short',\n",
       " 'squat',\n",
       " 'wide',\n",
       " 'weight',\n",
       " 'moved',\n",
       " 'three',\n",
       " 'inch',\n",
       " 'nicer',\n",
       " 'redoing',\n",
       " 'looked',\n",
       " 'proportion',\n",
       " 'tigh',\n",
       " 'werent',\n",
       " 'expected',\n",
       " 'either',\n",
       " 'dark',\n",
       " 'blue',\n",
       " 'couldnt',\n",
       " 'anything',\n",
       " 'thick',\n",
       " 'movement',\n",
       " 'end',\n",
       " 'many',\n",
       " 'especially',\n",
       " 'underrated',\n",
       " 'hesitate',\n",
       " 'wont',\n",
       " 'sorry',\n",
       " 'layering',\n",
       " 'piece',\n",
       " 'comfy',\n",
       " 'classic',\n",
       " 'balance',\n",
       " 'quirky',\n",
       " 'handknit',\n",
       " 'beautiful',\n",
       " 'practical',\n",
       " 'cropped',\n",
       " 'boxy',\n",
       " 'part',\n",
       " 'others',\n",
       " 'mentioned',\n",
       " 'knit',\n",
       " 'having',\n",
       " 'camisole',\n",
       " 'showing',\n",
       " 'wearing',\n",
       " 'warm',\n",
       " 'thin',\n",
       " 'jacket',\n",
       " 'cuter',\n",
       " 'never',\n",
       " 'given',\n",
       " 'online',\n",
       " 'stripe',\n",
       " 'brighter',\n",
       " 'crop',\n",
       " 'trend',\n",
       " 'carry',\n",
       " 'belly',\n",
       " 'navy',\n",
       " 'blazer',\n",
       " 'downside',\n",
       " 'cleaned',\n",
       " 'month',\n",
       " 'ago',\n",
       " 'finally',\n",
       " 'order',\n",
       " 'wool',\n",
       " 'subpar',\n",
       " 'else',\n",
       " 'guess',\n",
       " 'call',\n",
       " 'literally',\n",
       " 'itchy',\n",
       " 'china',\n",
       " 'sale',\n",
       " 'worth',\n",
       " 'paid',\n",
       " 'neat',\n",
       " 'soft',\n",
       " 'added',\n",
       " 'bonus',\n",
       " 'funky',\n",
       " 'tank',\n",
       " 'necklace',\n",
       " 'boot',\n",
       " 'lovely',\n",
       " 'whim',\n",
       " 'cut',\n",
       " 'lightweight',\n",
       " 'mom',\n",
       " 'draped',\n",
       " 'ill',\n",
       " 'houston',\n",
       " 'winter',\n",
       " 'polished',\n",
       " 'snapped',\n",
       " 'unsnapped',\n",
       " 'ageappropriate',\n",
       " 'amazing',\n",
       " 'skinny',\n",
       " 'we',\n",
       " 'gray',\n",
       " 'photo',\n",
       " 'poncho',\n",
       " 'plaid',\n",
       " 'check',\n",
       " 'sorbet',\n",
       " 'cream',\n",
       " 'turtleneck',\n",
       " 'heel',\n",
       " 'roll',\n",
       " 'spring',\n",
       " 'thing',\n",
       " 'should',\n",
       " 'know',\n",
       " 'thermal',\n",
       " 'naturally',\n",
       " 'expect',\n",
       " 'sheer',\n",
       " 'prepared',\n",
       " 'considering',\n",
       " 'who',\n",
       " 'might',\n",
       " 'walk',\n",
       " 'house',\n",
       " 'oversized',\n",
       " 'pound',\n",
       " 'want',\n",
       " 'along',\n",
       " 'being',\n",
       " 'stretched',\n",
       " 'mind',\n",
       " 'monitor',\n",
       " 'show',\n",
       " 'colorful',\n",
       " 'dot',\n",
       " 'today',\n",
       " 'local',\n",
       " 'bad',\n",
       " 'picture',\n",
       " 'tucking',\n",
       " 'ruching',\n",
       " 'across',\n",
       " 'alternative',\n",
       " 'plain',\n",
       " 'tee',\n",
       " 'reasonably',\n",
       " 'priced',\n",
       " 'generally',\n",
       " 'probably',\n",
       " 'two',\n",
       " 'tone',\n",
       " 'item',\n",
       " 'mine',\n",
       " 'seemed',\n",
       " 'pop',\n",
       " 'embroidery',\n",
       " 'collar',\n",
       " 'bib',\n",
       " 'received',\n",
       " 'question',\n",
       " 'rather',\n",
       " 'wouldve',\n",
       " 'adorable',\n",
       " 'transition',\n",
       " 'summer',\n",
       " 'purchase',\n",
       " 'washed',\n",
       " 'best',\n",
       " 'blonde',\n",
       " 'brunette',\n",
       " 'likely',\n",
       " 'absolutely',\n",
       " 'm',\n",
       " 'unusual',\n",
       " 'asymmetrical',\n",
       " 'seam',\n",
       " 'positioned',\n",
       " 'detail',\n",
       " 'attached',\n",
       " 'includes',\n",
       " 'actually',\n",
       " 'creates',\n",
       " 'visual',\n",
       " 'interest',\n",
       " 'add',\n",
       " 'help',\n",
       " 'hide',\n",
       " 'cowl',\n",
       " 'neck',\n",
       " 'done',\n",
       " 'ive',\n",
       " 'mean',\n",
       " 'wardrobe',\n",
       " 'armhole',\n",
       " 'older',\n",
       " 'woman',\n",
       " 'picky',\n",
       " 'slight',\n",
       " 'peplum',\n",
       " 'hang',\n",
       " 'thats',\n",
       " 'opaque',\n",
       " 'bra',\n",
       " 'barely',\n",
       " 'visible',\n",
       " 'warmer',\n",
       " 'climate',\n",
       " 'now',\n",
       " 'return',\n",
       " 'recommend',\n",
       " 'extremely',\n",
       " 'wash',\n",
       " 'boring',\n",
       " 'ruffle',\n",
       " 'layed',\n",
       " 'retuning',\n",
       " 'bralettes',\n",
       " 'provide',\n",
       " 'support',\n",
       " 'night',\n",
       " 'casual',\n",
       " 'supportive',\n",
       " 'tag',\n",
       " 'remove',\n",
       " 'simply',\n",
       " 'stunning',\n",
       " 'wait',\n",
       " 'happier',\n",
       " 'keyhole',\n",
       " 'thread',\n",
       " 'left',\n",
       " 'behind',\n",
       " 'plasticy',\n",
       " 'including',\n",
       " 'however',\n",
       " 'flimsy',\n",
       " 'give',\n",
       " 'lounging',\n",
       " 'bralette',\n",
       " 'must',\n",
       " 'recently',\n",
       " 'after',\n",
       " 'forever',\n",
       " 'list',\n",
       " 'torso',\n",
       " 'pattern',\n",
       " 'floral',\n",
       " 'springsummer',\n",
       " 'september',\n",
       " 'mail',\n",
       " 'smitten',\n",
       " 'l',\n",
       " 'sometimes',\n",
       " 'xl',\n",
       " 'stretch',\n",
       " 'stretchy',\n",
       " 'meda',\n",
       " 'lace',\n",
       " 'similar',\n",
       " 'tshirt',\n",
       " 'other',\n",
       " 'almost',\n",
       " 'couldve',\n",
       " 'gotten',\n",
       " 'extra',\n",
       " 'eyeing',\n",
       " 'wavering',\n",
       " 'postbaby',\n",
       " 'wonky',\n",
       " 'miraculously',\n",
       " 'goto',\n",
       " 'season',\n",
       " 'patter',\n",
       " 'okay',\n",
       " 'neckline',\n",
       " 'higher',\n",
       " 'unbuttoned',\n",
       " 'difficult',\n",
       " 'your',\n",
       " 'unfortunately',\n",
       " 'ala',\n",
       " 'strange',\n",
       " 'stay',\n",
       " 'weird',\n",
       " 'breast',\n",
       " 'standing',\n",
       " 'minute',\n",
       " 'sat',\n",
       " 'shoulder',\n",
       " 'pocket',\n",
       " 'massive',\n",
       " 'sweep',\n",
       " 'massively',\n",
       " 'babydoll',\n",
       " 'shaped',\n",
       " 'apparent',\n",
       " 'measured',\n",
       " 'hung',\n",
       " 'straighter',\n",
       " 'craftsmanship',\n",
       " 'natural',\n",
       " 'thinking',\n",
       " 'asking',\n",
       " 'she',\n",
       " 'ruin',\n",
       " 'layout',\n",
       " 'proportioned',\n",
       " 'swing',\n",
       " 'why',\n",
       " 'designer',\n",
       " 'making',\n",
       " 'anyone',\n",
       " 'endowed',\n",
       " 'football',\n",
       " 'player',\n",
       " 'between',\n",
       " 'bigger',\n",
       " 'cami',\n",
       " 'ride',\n",
       " 'fitted',\n",
       " 'uncomfortable',\n",
       " 'easier',\n",
       " 'lack',\n",
       " 'n',\n",
       " 'unlike',\n",
       " 'another',\n",
       " 'reviewer',\n",
       " 'business',\n",
       " 'meeting',\n",
       " 'wi',\n",
       " 'drawn',\n",
       " 'baby',\n",
       " 'doll',\n",
       " 'immediately',\n",
       " 'swallow',\n",
       " 'whole',\n",
       " 'let',\n",
       " 'chart',\n",
       " 'read',\n",
       " 'comment',\n",
       " 'same',\n",
       " 'description',\n",
       " 'recommended',\n",
       " 'specific',\n",
       " 'weigh',\n",
       " 'cannot',\n",
       " 'altered',\n",
       " 'chose',\n",
       " 'broke',\n",
       " 'disappointing',\n",
       " 'replace',\n",
       " 'stronger',\n",
       " 'annoying',\n",
       " 'come',\n",
       " 'obsessed',\n",
       " 'luxurious',\n",
       " 'everyday',\n",
       " 'drapey',\n",
       " 'arm',\n",
       " 'cutebut',\n",
       " 'overpriced',\n",
       " 'normal',\n",
       " 'fine',\n",
       " 'sense',\n",
       " 'essentially',\n",
       " 'fancy',\n",
       " 'bring',\n",
       " 'alone',\n",
       " 'originally',\n",
       " 'planned',\n",
       " 'elegant',\n",
       " 'hemmed',\n",
       " 'overwhelming',\n",
       " 'hair',\n",
       " 'contemporary',\n",
       " 'salesperson',\n",
       " 'happen',\n",
       " 'raved',\n",
       " 'told',\n",
       " 'grab',\n",
       " 'plan',\n",
       " 'parka',\n",
       " 'rest',\n",
       " 'accurately',\n",
       " 'orange',\n",
       " 'recieved',\n",
       " 'cedar',\n",
       " 'brown',\n",
       " 'colored',\n",
       " 'seen',\n",
       " 'while',\n",
       " 'bulky',\n",
       " 'heavy',\n",
       " 'appropriate',\n",
       " 'heavily',\n",
       " 'option',\n",
       " 'removable',\n",
       " 'v',\n",
       " 'antro',\n",
       " 'wonderful',\n",
       " 'greenish',\n",
       " 'removed',\n",
       " 'snap',\n",
       " 'worn',\n",
       " 'peek',\n",
       " 'through',\n",
       " 'touch',\n",
       " 'typical',\n",
       " 'dislike',\n",
       " 'concern',\n",
       " 'hole',\n",
       " 'remind',\n",
       " 'develop',\n",
       " 'water',\n",
       " 'hopefully',\n",
       " 'prevent',\n",
       " 'developing',\n",
       " 'slit',\n",
       " 'dim',\n",
       " 'neutral',\n",
       " 'section',\n",
       " 'room',\n",
       " 'eat',\n",
       " 'te',\n",
       " 'spot',\n",
       " 'debated',\n",
       " 'tighten',\n",
       " 'decide',\n",
       " 'pinched',\n",
       " 'looser',\n",
       " 'eptite',\n",
       " 'dd',\n",
       " 'burnt',\n",
       " 'lacked',\n",
       " 'tailored',\n",
       " 'velvet',\n",
       " 'tunic',\n",
       " 'instead',\n",
       " 'sweet',\n",
       " 'linen',\n",
       " 'wellmade',\n",
       " 'quite',\n",
       " 'curvy',\n",
       " 'italy',\n",
       " 'book',\n",
       " 'ticket',\n",
       " 'caught',\n",
       " 'eye',\n",
       " 'possibility',\n",
       " 'far',\n",
       " 'prefer',\n",
       " 'versatility',\n",
       " 'fence',\n",
       " 'aside',\n",
       " 'seriously',\n",
       " 'elegance',\n",
       " 'pleased',\n",
       " 'various',\n",
       " 'limitless',\n",
       " 'state',\n",
       " 'taupe',\n",
       " 'liked',\n",
       " 'green',\n",
       " 'fantastic',\n",
       " 'f',\n",
       " 'red',\n",
       " 'shapeless',\n",
       " 'shouldve',\n",
       " 'pernette',\n",
       " 'henley',\n",
       " 'easy',\n",
       " 'mostly',\n",
       " 'exactly',\n",
       " 'slipping',\n",
       " 'home',\n",
       " 'slightly',\n",
       " 'near',\n",
       " 'upper',\n",
       " 'loosen',\n",
       " 'throughout',\n",
       " 'pajama',\n",
       " 'wavy',\n",
       " 'lean',\n",
       " 'forward',\n",
       " 'world',\n",
       " 'despite',\n",
       " 'seamed',\n",
       " 'scoop',\n",
       " 'believe',\n",
       " 'constructed',\n",
       " 'fan',\n",
       " 'reference',\n",
       " 'measurement',\n",
       " 'teal',\n",
       " 'sky',\n",
       " 'darker',\n",
       " 'beauty',\n",
       " 'sassy',\n",
       " 'appeal',\n",
       " 'snake',\n",
       " 'attitude',\n",
       " 'gave',\n",
       " 'star',\n",
       " 'qualityit',\n",
       " ...]"
      ]
     },
     "execution_count": 47,
     "metadata": {},
     "output_type": "execute_result"
    }
   ],
   "source": [
    "words = list(W2V_model.wv.vocab)\n",
    "words"
   ]
  },
  {
   "cell_type": "code",
   "execution_count": 48,
   "metadata": {},
   "outputs": [
    {
     "name": "stdout",
     "output_type": "stream",
     "text": [
      "enter  word:good\n",
      "[('great', 0.8003445267677307), ('nice', 0.713800311088562), ('excellent', 0.6678763031959534)]\n"
     ]
    }
   ],
   "source": [
    "inp = str(input(\"enter  word:\"))\n",
    "print(W2V_model.wv.most_similar(positive = inp,topn =3))"
   ]
  },
  {
   "cell_type": "code",
   "execution_count": 49,
   "metadata": {},
   "outputs": [],
   "source": [
    "x =Review_coulmn_tokensiz\n",
    "y = df['Recommended IND']\n",
    "from sklearn.model_selection import train_test_split\n",
    "X_train, X_test, y_train, y_test = train_test_split(x,y,test_size=0.3,random_state=42)"
   ]
  },
  {
   "cell_type": "code",
   "execution_count": 50,
   "metadata": {},
   "outputs": [],
   "source": [
    "W2V_model_train=Word2Vec(X_train, min_count=2) \n",
    "W2V_model_test=Word2Vec(X_test, min_count=2) "
   ]
  },
  {
   "cell_type": "code",
   "execution_count": 51,
   "metadata": {},
   "outputs": [
    {
     "name": "stdout",
     "output_type": "stream",
     "text": [
      "Accuracy Score Train :  0.9164426360531861\n",
      "Classification Report for Train : \n",
      "               precision    recall  f1-score   support\n",
      "\n",
      "           0       0.88      0.62      0.73      2466\n",
      "           1       0.92      0.98      0.95     11297\n",
      "\n",
      "    accuracy                           0.92     13763\n",
      "   macro avg       0.90      0.80      0.84     13763\n",
      "weighted avg       0.91      0.92      0.91     13763\n",
      "\n",
      "AUC ROC Train :  0.967455527420417\n",
      "Confusion Matrix for Test : \n",
      " [[ 1532   934]\n",
      " [  216 11081]]\n",
      "Accuracy Score Test :  0.898287845397525\n",
      "Classification Report for Test : \n",
      "               precision    recall  f1-score   support\n",
      "\n",
      "           0       0.85      0.56      0.67      1109\n",
      "           1       0.91      0.98      0.94      4790\n",
      "\n",
      "    accuracy                           0.90      5899\n",
      "   macro avg       0.88      0.77      0.81      5899\n",
      "weighted avg       0.89      0.90      0.89      5899\n",
      "\n",
      "AUC ROC Test :  0.9480566102735073\n",
      "Confusion Matrix for Test : \n",
      " [[ 623  486]\n",
      " [ 114 4676]]\n"
     ]
    },
    {
     "name": "stderr",
     "output_type": "stream",
     "text": [
      "J:\\Anaconda\\lib\\site-packages\\sklearn\\linear_model\\base.py:291: DeprecationWarning: `np.int` is a deprecated alias for the builtin `int`. To silence this warning, use `int` by itself. Doing this will not modify any behavior and is safe. When replacing `np.int`, you may wish to use e.g. `np.int64` or `np.int32` to specify the precision. If you wish to review your current use, check the release note link for additional information.\n",
      "Deprecated in NumPy 1.20; for more details and guidance: https://numpy.org/devdocs/release/1.20.0-notes.html#deprecations\n",
      "  indices = (scores > 0).astype(np.int)\n",
      "J:\\Anaconda\\lib\\site-packages\\sklearn\\linear_model\\base.py:291: DeprecationWarning: `np.int` is a deprecated alias for the builtin `int`. To silence this warning, use `int` by itself. Doing this will not modify any behavior and is safe. When replacing `np.int`, you may wish to use e.g. `np.int64` or `np.int32` to specify the precision. If you wish to review your current use, check the release note link for additional information.\n",
      "Deprecated in NumPy 1.20; for more details and guidance: https://numpy.org/devdocs/release/1.20.0-notes.html#deprecations\n",
      "  indices = (scores > 0).astype(np.int)\n"
     ]
    }
   ],
   "source": [
    "model_eval(lr,X_train_tf_idf,X_test_tf_idf, y_train, y_test)"
   ]
  },
  {
   "cell_type": "code",
   "execution_count": null,
   "metadata": {},
   "outputs": [],
   "source": []
  },
  {
   "cell_type": "code",
   "execution_count": 52,
   "metadata": {},
   "outputs": [
    {
     "name": "stdout",
     "output_type": "stream",
     "text": [
      "enter  word:good\n",
      " top 3 similar words [('great', 0.8170868158340454), ('nice', 0.6990807056427002), ('high', 0.6817111372947693)]\n"
     ]
    }
   ],
   "source": [
    "input1 = str(input(\"enter  word:\"))\n",
    "print(\" top 3 similar words\",W2V_model_train.wv.most_similar(positive = input1,topn =3))"
   ]
  },
  {
   "cell_type": "code",
   "execution_count": 53,
   "metadata": {},
   "outputs": [
    {
     "name": "stdout",
     "output_type": "stream",
     "text": [
      "enter  word:bad\n",
      " top 3 similar words [('disappointing', 0.7199304699897766), ('overwhelming', 0.6808361411094666), ('boxy', 0.6561868786811829)]\n"
     ]
    }
   ],
   "source": [
    "input1 = str(input(\"enter  word:\"))\n",
    "print(\" top 3 similar words\",W2V_model_train.wv.most_similar(positive = input1,topn =3))"
   ]
  },
  {
   "cell_type": "code",
   "execution_count": null,
   "metadata": {},
   "outputs": [],
   "source": []
  },
  {
   "cell_type": "code",
   "execution_count": null,
   "metadata": {},
   "outputs": [],
   "source": []
  },
  {
   "cell_type": "code",
   "execution_count": 54,
   "metadata": {},
   "outputs": [
    {
     "name": "stderr",
     "output_type": "stream",
     "text": [
      "J:\\Anaconda\\lib\\site-packages\\sklearn\\linear_model\\base.py:291: DeprecationWarning: `np.int` is a deprecated alias for the builtin `int`. To silence this warning, use `int` by itself. Doing this will not modify any behavior and is safe. When replacing `np.int`, you may wish to use e.g. `np.int64` or `np.int32` to specify the precision. If you wish to review your current use, check the release note link for additional information.\n",
      "Deprecated in NumPy 1.20; for more details and guidance: https://numpy.org/devdocs/release/1.20.0-notes.html#deprecations\n",
      "  indices = (scores > 0).astype(np.int)\n"
     ]
    }
   ],
   "source": [
    "val=\"good\"\n",
    "p=tfidf.transform([val])\n",
    "q=lr.predict(p)"
   ]
  },
  {
   "cell_type": "code",
   "execution_count": 55,
   "metadata": {},
   "outputs": [
    {
     "name": "stdout",
     "output_type": "stream",
     "text": [
      "[1]\n"
     ]
    }
   ],
   "source": [
    "print(q)"
   ]
  },
  {
   "cell_type": "code",
   "execution_count": 64,
   "metadata": {},
   "outputs": [
    {
     "data": {
      "text/plain": [
       "LogisticRegression(C=1.0, class_weight=None, dual=False, fit_intercept=True,\n",
       "                   intercept_scaling=1, l1_ratio=None, max_iter=100,\n",
       "                   multi_class='warn', n_jobs=None, penalty='l2',\n",
       "                   random_state=None, solver='liblinear', tol=0.0001, verbose=0,\n",
       "                   warm_start=False)"
      ]
     },
     "execution_count": 64,
     "metadata": {},
     "output_type": "execute_result"
    }
   ],
   "source": [
    "lr"
   ]
  },
  {
   "cell_type": "code",
   "execution_count": 56,
   "metadata": {},
   "outputs": [],
   "source": [
    "# object creation\n",
    "import pickle\n",
    "pickle_out = open(\"lr.pkl\",\"wb\")\n",
    "pickle.dump(lr, pickle_out)\n",
    "pickle_out.close()"
   ]
  },
  {
   "cell_type": "code",
   "execution_count": 58,
   "metadata": {},
   "outputs": [
    {
     "name": "stdout",
     "output_type": "stream",
     "text": [
      "The retrived object LogisticRegression(C=1.0, class_weight=None, dual=False, fit_intercept=True,\n",
      "                   intercept_scaling=1, l1_ratio=None, max_iter=100,\n",
      "                   multi_class='warn', n_jobs=None, penalty='l2',\n",
      "                   random_state=None, solver='liblinear', tol=0.0001, verbose=0,\n",
      "                   warm_start=False)\n"
     ]
    }
   ],
   "source": [
    "#Retreving  object\n",
    "m = pickle.load(open(\"lr.pkl\",\"rb\"))\n",
    "print(\"The retrived object\",m)"
   ]
  },
  {
   "cell_type": "code",
   "execution_count": 61,
   "metadata": {},
   "outputs": [],
   "source": [
    "val=\"good\"\n",
    "p=tfidf.transform([val])"
   ]
  },
  {
   "cell_type": "code",
   "execution_count": 65,
   "metadata": {},
   "outputs": [
    {
     "ename": "ValueError",
     "evalue": "Expected 2D array, got scalar array instead:\narray=good.\nReshape your data either using array.reshape(-1, 1) if your data has a single feature or array.reshape(1, -1) if it contains a single sample.",
     "output_type": "error",
     "traceback": [
      "\u001b[1;31m---------------------------------------------------------------------------\u001b[0m",
      "\u001b[1;31mValueError\u001b[0m                                Traceback (most recent call last)",
      "\u001b[1;32m<ipython-input-65-31bca36e2157>\u001b[0m in \u001b[0;36m<module>\u001b[1;34m\u001b[0m\n\u001b[1;32m----> 1\u001b[1;33m \u001b[0mlr\u001b[0m\u001b[1;33m.\u001b[0m\u001b[0mpredict\u001b[0m\u001b[1;33m(\u001b[0m\u001b[0mval\u001b[0m\u001b[1;33m)\u001b[0m\u001b[1;33m\u001b[0m\u001b[1;33m\u001b[0m\u001b[0m\n\u001b[0m",
      "\u001b[1;32mJ:\\Anaconda\\lib\\site-packages\\sklearn\\linear_model\\base.py\u001b[0m in \u001b[0;36mpredict\u001b[1;34m(self, X)\u001b[0m\n\u001b[0;32m    287\u001b[0m             \u001b[0mPredicted\u001b[0m \u001b[1;32mclass\u001b[0m \u001b[0mlabel\u001b[0m \u001b[0mper\u001b[0m \u001b[0msample\u001b[0m\u001b[1;33m.\u001b[0m\u001b[1;33m\u001b[0m\u001b[1;33m\u001b[0m\u001b[0m\n\u001b[0;32m    288\u001b[0m         \"\"\"\n\u001b[1;32m--> 289\u001b[1;33m         \u001b[0mscores\u001b[0m \u001b[1;33m=\u001b[0m \u001b[0mself\u001b[0m\u001b[1;33m.\u001b[0m\u001b[0mdecision_function\u001b[0m\u001b[1;33m(\u001b[0m\u001b[0mX\u001b[0m\u001b[1;33m)\u001b[0m\u001b[1;33m\u001b[0m\u001b[1;33m\u001b[0m\u001b[0m\n\u001b[0m\u001b[0;32m    290\u001b[0m         \u001b[1;32mif\u001b[0m \u001b[0mlen\u001b[0m\u001b[1;33m(\u001b[0m\u001b[0mscores\u001b[0m\u001b[1;33m.\u001b[0m\u001b[0mshape\u001b[0m\u001b[1;33m)\u001b[0m \u001b[1;33m==\u001b[0m \u001b[1;36m1\u001b[0m\u001b[1;33m:\u001b[0m\u001b[1;33m\u001b[0m\u001b[1;33m\u001b[0m\u001b[0m\n\u001b[0;32m    291\u001b[0m             \u001b[0mindices\u001b[0m \u001b[1;33m=\u001b[0m \u001b[1;33m(\u001b[0m\u001b[0mscores\u001b[0m \u001b[1;33m>\u001b[0m \u001b[1;36m0\u001b[0m\u001b[1;33m)\u001b[0m\u001b[1;33m.\u001b[0m\u001b[0mastype\u001b[0m\u001b[1;33m(\u001b[0m\u001b[0mnp\u001b[0m\u001b[1;33m.\u001b[0m\u001b[0mint\u001b[0m\u001b[1;33m)\u001b[0m\u001b[1;33m\u001b[0m\u001b[1;33m\u001b[0m\u001b[0m\n",
      "\u001b[1;32mJ:\\Anaconda\\lib\\site-packages\\sklearn\\linear_model\\base.py\u001b[0m in \u001b[0;36mdecision_function\u001b[1;34m(self, X)\u001b[0m\n\u001b[0;32m    263\u001b[0m                                  \"yet\" % {'name': type(self).__name__})\n\u001b[0;32m    264\u001b[0m \u001b[1;33m\u001b[0m\u001b[0m\n\u001b[1;32m--> 265\u001b[1;33m         \u001b[0mX\u001b[0m \u001b[1;33m=\u001b[0m \u001b[0mcheck_array\u001b[0m\u001b[1;33m(\u001b[0m\u001b[0mX\u001b[0m\u001b[1;33m,\u001b[0m \u001b[0maccept_sparse\u001b[0m\u001b[1;33m=\u001b[0m\u001b[1;34m'csr'\u001b[0m\u001b[1;33m)\u001b[0m\u001b[1;33m\u001b[0m\u001b[1;33m\u001b[0m\u001b[0m\n\u001b[0m\u001b[0;32m    266\u001b[0m \u001b[1;33m\u001b[0m\u001b[0m\n\u001b[0;32m    267\u001b[0m         \u001b[0mn_features\u001b[0m \u001b[1;33m=\u001b[0m \u001b[0mself\u001b[0m\u001b[1;33m.\u001b[0m\u001b[0mcoef_\u001b[0m\u001b[1;33m.\u001b[0m\u001b[0mshape\u001b[0m\u001b[1;33m[\u001b[0m\u001b[1;36m1\u001b[0m\u001b[1;33m]\u001b[0m\u001b[1;33m\u001b[0m\u001b[1;33m\u001b[0m\u001b[0m\n",
      "\u001b[1;32mJ:\\Anaconda\\lib\\site-packages\\sklearn\\utils\\validation.py\u001b[0m in \u001b[0;36mcheck_array\u001b[1;34m(array, accept_sparse, accept_large_sparse, dtype, order, copy, force_all_finite, ensure_2d, allow_nd, ensure_min_samples, ensure_min_features, warn_on_dtype, estimator)\u001b[0m\n\u001b[0;32m    512\u001b[0m                     \u001b[1;34m\"Reshape your data either using array.reshape(-1, 1) if \"\u001b[0m\u001b[1;33m\u001b[0m\u001b[1;33m\u001b[0m\u001b[0m\n\u001b[0;32m    513\u001b[0m                     \u001b[1;34m\"your data has a single feature or array.reshape(1, -1) \"\u001b[0m\u001b[1;33m\u001b[0m\u001b[1;33m\u001b[0m\u001b[0m\n\u001b[1;32m--> 514\u001b[1;33m                     \"if it contains a single sample.\".format(array))\n\u001b[0m\u001b[0;32m    515\u001b[0m             \u001b[1;31m# If input is 1D raise error\u001b[0m\u001b[1;33m\u001b[0m\u001b[1;33m\u001b[0m\u001b[1;33m\u001b[0m\u001b[0m\n\u001b[0;32m    516\u001b[0m             \u001b[1;32mif\u001b[0m \u001b[0marray\u001b[0m\u001b[1;33m.\u001b[0m\u001b[0mndim\u001b[0m \u001b[1;33m==\u001b[0m \u001b[1;36m1\u001b[0m\u001b[1;33m:\u001b[0m\u001b[1;33m\u001b[0m\u001b[1;33m\u001b[0m\u001b[0m\n",
      "\u001b[1;31mValueError\u001b[0m: Expected 2D array, got scalar array instead:\narray=good.\nReshape your data either using array.reshape(-1, 1) if your data has a single feature or array.reshape(1, -1) if it contains a single sample."
     ]
    }
   ],
   "source": [
    "lr.predict(val)"
   ]
  },
  {
   "cell_type": "code",
   "execution_count": null,
   "metadata": {},
   "outputs": [],
   "source": [
    "\n"
   ]
  },
  {
   "cell_type": "code",
   "execution_count": null,
   "metadata": {},
   "outputs": [],
   "source": []
  }
 ],
 "metadata": {
  "kernelspec": {
   "display_name": "Python 3",
   "language": "python",
   "name": "python3"
  },
  "language_info": {
   "codemirror_mode": {
    "name": "ipython",
    "version": 3
   },
   "file_extension": ".py",
   "mimetype": "text/x-python",
   "name": "python",
   "nbconvert_exporter": "python",
   "pygments_lexer": "ipython3",
   "version": "3.7.3"
  }
 },
 "nbformat": 4,
 "nbformat_minor": 2
}
